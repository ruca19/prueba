{
  "nbformat": 4,
  "nbformat_minor": 0,
  "metadata": {
    "colab": {
      "provenance": [],
      "authorship_tag": "ABX9TyPbDIlNFz2w7m4mRiga04/S",
      "include_colab_link": true
    },
    "kernelspec": {
      "name": "python3",
      "display_name": "Python 3"
    },
    "language_info": {
      "name": "python"
    }
  },
  "cells": [
    {
      "cell_type": "markdown",
      "metadata": {
        "id": "view-in-github",
        "colab_type": "text"
      },
      "source": [
        "<a href=\"https://colab.research.google.com/github/ruca19/prueba/blob/main/AWS/arijo.ipynb\" target=\"_parent\"><img src=\"https://colab.research.google.com/assets/colab-badge.svg\" alt=\"Open In Colab\"/></a>"
      ]
    },
    {
      "cell_type": "code",
      "source": [
        "#Chatbot sobre sueldos que aprende si no se sabe la respuesta\n",
        "import json #Importa JSON\n",
        "from difflib import get_close_matches  #Importa una funcion que encuentra coincidencias entre cadenas\n",
        "\n",
        "def carga_JSON(file_path: str) -> dict:  # toma un parámetro file_path de tipo string y devuelve un diccionario.\n",
        "  with open(file_path, \"r\") as file:  #Abrir archivo en modo lectura.\n",
        "    data: dict = json.load(file)  #carga contenido de archivo JSON y lo almacena en variable data\n",
        "  return data  #devuelve diccionario data\n",
        "\n",
        "def guarda_JSON(file_path: str, data: dict):\n",
        "  with open (file_path, \"w\") as file: #Abrir en modo escritura\n",
        "    json.dump(data, file, indent=2)  #Guarda el diccionario data en el archivo JSON, indentación de 2 espacios para una mejor legibilidad.\n",
        "\n",
        "def encontrar_resultado(pregunta_usuario: str, preguntas: list[str]) -> str| None:  #si tiene almacenado resultado devuelve string sino no devuelve nada\n",
        "  matches: list = get_close_matches(pregunta_usuario, preguntas, n=1, cutoff=0.7) #encuentra la coincidencia a la pregunta con un umbral de similitud del 60%\n",
        "  return matches[0] if matches else None  #Devulve mejor coicidencia si existe sino nada\n",
        "\n",
        "def respuesta(pregunta: str, archivo_JSON: dict) -> str| None:\n",
        "  for p in archivo_JSON[\"preguntas\"]:  #bucle de diccionario JSON\n",
        "    if p[\"pregunta\"] == pregunta: #Si hay una pregunta igual\n",
        "      return p[\"responde\"]  #devolver el valor del dict(respuesta de pregunta)\n",
        "\n",
        "def chatbot():\n",
        "  archivo_JSON: dict = carga_JSON(\"archivo_JSON.json\") #cargar json\n",
        "\n",
        "  while True: #Bucle para interactuar con bot\n",
        "    usuario_input: str = input(\"Yo: \")\n",
        "    if usuario_input.lower() in [\"quit\", \"salir\", \"bye\", \"adios\", \"hasta luego\"]:\n",
        "      break\n",
        "    #Encontrar mejor coincidencia\n",
        "    best_match: str | None = encontrar_resultado(usuario_input, [p[\"pregunta\"] for p in archivo_JSON[\"preguntas\"]])\n",
        "\n",
        "    if best_match:\n",
        "      responde: str = respuesta(best_match, archivo_JSON)#si hay coincidencia, obtenerla de archivo_JSON\n",
        "      print(f\"Bot: {responde}\")\n",
        "    else:\n",
        "      print(\"Bot: No se la respuesta. Me la puedes decir tu?\")\n",
        "      nueva_respuesta: str = input(\"Escribe la respuesta o 'pasa' para no escribirla: \")\n",
        "\n",
        "      if nueva_respuesta.lower() != 'pasa': #Si respuesta no es pasa, aprendera la respuesta, la guardara en el JSON\n",
        "        archivo_JSON[\"preguntas\"].append({\"pregunta\": usuario_input, \"responde\": nueva_respuesta})\n",
        "        guarda_JSON(\"archivo_JSON.json\", archivo_JSON)\n",
        "        print(\"Bot: Gracias! Me he aprendido la respuesta\")\n",
        "\n",
        "if __name__ == \"__main__\": #Para poder ejecutar el programa\n",
        "  chatbot()"
      ],
      "metadata": {
        "colab": {
          "base_uri": "https://localhost:8080/"
        },
        "id": "Yu7pK1qeBGpf",
        "outputId": "5599a28a-92e5-4021-9aee-508585ca8a1f"
      },
      "execution_count": null,
      "outputs": [
        {
          "name": "stdout",
          "output_type": "stream",
          "text": [
            "Yo: dime el salario de un profesor en españa\n",
            "Bot: No se la respuesta. Me la puedes decir tu?\n",
            "Escribe la respuesta o 'pasa' para no escribirla: pasa\n",
            "Yo: dime el salario de un ingeniero civil en españa\n",
            "Bot: El salario promedio de un ingeniero civil en España es de alrededor de €45,000 al año.\n",
            "Yo: quit\n"
          ]
        }
      ]
    }
  ]
}